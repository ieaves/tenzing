{
 "cells": [
  {
   "cell_type": "code",
   "execution_count": 28,
   "metadata": {},
   "outputs": [],
   "source": [
    "import pandas as pd\n",
    "from pathlib import PurePosixPath\n",
    "import timeit\n",
    "import numpy as np\n",
    "\n",
    "from visions.core.implementations import visions_complete_set\n",
    "from visions.core.functional import type_cast, type_inference\n",
    "\n",
    "import seaborn as sn\n",
    "import matplotlib.pyplot as plt\n",
    "%matplotlib inline"
   ]
  },
  {
   "cell_type": "code",
   "execution_count": 3,
   "metadata": {},
   "outputs": [],
   "source": [
    "def make_sample_data(n_elems):\n",
    "    n_elems += n_elems % 2\n",
    "\n",
    "    df = pd.DataFrame({\n",
    "        'ip_str': [\"127.0.0.1\"] * n_elems,\n",
    "        'float_str': [\"1.1\", \"NAN\"] * int(n_elems/2),\n",
    "        'obj_series': [[1, \"\"]] * n_elems,\n",
    "        'path': [PurePosixPath(\"/home/user/file.txt\")] * n_elems,\n",
    "        'integer': [3] * n_elems,\n",
    "        'bool_int': [1, 0] * int(n_elems/2),\n",
    "        'string_date': [\"1937-05-06\"] * n_elems,\n",
    "    })\n",
    "    return df\n",
    "\n",
    "typeset = visions_complete_set()"
   ]
  },
  {
   "cell_type": "code",
   "execution_count": 4,
   "metadata": {},
   "outputs": [],
   "source": [
    "def test_func(function):\n",
    "    def inner(df, typeset):\n",
    "        def double_inner():\n",
    "            return function(df, typeset)\n",
    "        return double_inner\n",
    "    return inner\n",
    "\n",
    "inference_test_setup = test_func(type_inference)\n",
    "cast_test_setup = test_func(type_cast)"
   ]
  },
  {
   "cell_type": "code",
   "execution_count": 13,
   "metadata": {},
   "outputs": [
    {
     "name": "stdout",
     "output_type": "stream",
     "text": [
      "6.88 s ± 1.84 s per loop (mean ± std. dev. of 7 runs, 1 loop each)\n"
     ]
    }
   ],
   "source": [
    "df = make_sample_data(1000000)\n",
    "%timeit type_cast(df, typeset)"
   ]
  },
  {
   "cell_type": "code",
   "execution_count": 14,
   "metadata": {},
   "outputs": [],
   "source": [
    "def time_func(func, n_elems, num_runs=5):\n",
    "    df = make_sample_data(n_elems)\n",
    "    test = func(df, typeset)\n",
    "    return timeit.timeit(test, number=num_runs) / num_runs"
   ]
  },
  {
   "cell_type": "code",
   "execution_count": 68,
   "metadata": {},
   "outputs": [],
   "source": [
    "df_length = [10, 100, 1000] + list(range(2000, 10000, 1000)) + list(range(10000, 100000, 10000)) +\\\n",
    "            [500000, 1000000]"
   ]
  },
  {
   "cell_type": "code",
   "execution_count": 62,
   "metadata": {},
   "outputs": [],
   "source": [
    "inference_run_time = [time_func(inference_test_setup, l) for l in df_length]"
   ]
  },
  {
   "cell_type": "code",
   "execution_count": 67,
   "metadata": {},
   "outputs": [
    {
     "data": {
      "image/png": "[encoded data removed]",
      "text/plain": [
       "<Figure size 432x288 with 1 Axes>"
      ]
     },
     "metadata": {
      "needs_background": "light"
     },
     "output_type": "display_data"
    }
   ],
   "source": [
    "ax = sn.scatterplot(df_length, inference_run_time)\n",
    "_ = ax.set(xlabel='Number of rows', ylabel='time (s)', title='Run Time Complexity (type inference)')"
   ]
  },
  {
   "cell_type": "code",
   "execution_count": null,
   "metadata": {},
   "outputs": [],
   "source": [
    "cast_run_time = [time_func(cast_test_setup, l) for l in df_length]"
   ]
  },
  {
   "cell_type": "code",
   "execution_count": 70,
   "metadata": {},
   "outputs": [
    {
     "data": {
      "image/png": "[encoded data removed]",
      "text/plain": [
       "<Figure size 432x288 with 1 Axes>"
      ]
     },
     "metadata": {
      "needs_background": "light"
     },
     "output_type": "display_data"
    }
   ],
   "source": [
    "ax = sn.scatterplot(df_length, inference_run_time)\n",
    "_ = ax.set(xlabel='Number of rows', ylabel='time (s)', title='Run Time Complexity (type casting)')"
   ]
  },
  {
   "cell_type": "code",
   "execution_count": null,
   "metadata": {},
   "outputs": [],
   "source": []
  }
 ],
 "metadata": {
  "kernelspec": {
   "display_name": "Python [conda env:visions_test] *",
   "language": "python",
   "name": "conda-env-visions_test-py"
  },
  "language_info": {
   "codemirror_mode": {
    "name": "ipython",
    "version": 3
   },
   "file_extension": ".py",
   "mimetype": "text/x-python",
   "name": "python",
   "nbconvert_exporter": "python",
   "pygments_lexer": "ipython3",
   "version": "3.7.4"
  }
 },
 "nbformat": 4,
 "nbformat_minor": 4
}
